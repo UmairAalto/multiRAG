{
 "cells": [
  {
   "cell_type": "markdown",
   "id": "606c2ee3",
   "metadata": {},
   "source": [
    "# Using unstructured"
   ]
  },
  {
   "cell_type": "code",
   "execution_count": 2,
   "id": "1f08ab14-e117-4156-b7f3-7c97d80dc2fe",
   "metadata": {},
   "outputs": [
    {
     "data": {
      "text/plain": [
       "True"
      ]
     },
     "execution_count": 2,
     "metadata": {},
     "output_type": "execute_result"
    }
   ],
   "source": [
    "#Examples: https://colab.research.google.com/gist/alejandro-ao/47db0b8b9d00b10a96ab42dd59d90b86/langchain-multimodal.ipynb#scrollTo=8326a750\n",
    "\n",
    "#!more .env\n",
    "import os\n",
    "import base64\n",
    "import uuid\n",
    "from dotenv import load_dotenv\n",
    "\n",
    "load_dotenv() "
   ]
  },
  {
   "cell_type": "markdown",
   "id": "546a040d",
   "metadata": {},
   "source": [
    "### Unstructured: Using chunking_strategy=\"by_title\" and reconstructing orig_elements\n"
   ]
  },
  {
   "cell_type": "code",
   "execution_count": 3,
   "id": "11d270bf",
   "metadata": {},
   "outputs": [],
   "source": [
    "from langchain_community.document_loaders import UnstructuredPDFLoader\n",
    "\n",
    "path = \"../Data/\"\n",
    "file1 = \"BV_page237.pdf\"\n",
    "file2 = \"test_sample.pdf\"\n",
    "file3 = \"bearing_block.pdf\"\n",
    "file4 = \"Image-based-pdf-sample.pdf\"\n",
    "file5 = \"BV_page231.pdf\"\n",
    "file6 = \"Table 12.pdf\""
   ]
  },
  {
   "cell_type": "code",
   "execution_count": 4,
   "id": "2dddd549",
   "metadata": {},
   "outputs": [
    {
     "name": "stderr",
     "output_type": "stream",
     "text": [
      "c:\\Users\\muhammu1\\AppData\\Local\\Programs\\Python\\Python311\\Lib\\site-packages\\tqdm\\auto.py:21: TqdmWarning: IProgress not found. Please update jupyter and ipywidgets. See https://ipywidgets.readthedocs.io/en/stable/user_install.html\n",
      "  from .autonotebook import tqdm as notebook_tqdm\n"
     ]
    },
    {
     "name": "stdout",
     "output_type": "stream",
     "text": [
      "Loaded 3 documents from BV_page237.pdf\n"
     ]
    }
   ],
   "source": [
    "\n",
    "# Using the UnstructuredPDFLoader to load the document. In special Images and Tables.\n",
    "# Since we are usinng chunking strategy by_title, the image and tables are inside the orig_elements metadata.\n",
    "loader = UnstructuredPDFLoader(path+file1,  \n",
    "                               mode=\"elements\", \n",
    "                               strategy=\"hi_res\",\n",
    "                               extract_image_block_types=[\"Image\"],\n",
    "                               extract_text_as_html = True,\n",
    "                               extract_image_block_to_payload = True, \n",
    "                               chunking_strategy=\"by_title\", \n",
    "                               max_characters=4000,  \n",
    "                               new_after_n_chars=3800\n",
    "                               )\n",
    "pages = loader.load()\n",
    "print(f\"Loaded {len(pages)} documents from {file1}\")"
   ]
  },
  {
   "cell_type": "code",
   "execution_count": 35,
   "id": "cbaf80f1",
   "metadata": {},
   "outputs": [
    {
     "name": "stdout",
     "output_type": "stream",
     "text": [
      "Loaded 2 documents from Table 12.pdf\n"
     ]
    }
   ],
   "source": [
    "from unstructured.partition.pdf import partition_pdf\n",
    "\n",
    "chunks = partition_pdf(path+file6,  \n",
    "                        mode=\"elements\", \n",
    "                        strategy=\"hi_res\",\n",
    "                        extract_image_block_types=[\"Image\"],\n",
    "                        extract_image_block_to_payload = True,\n",
    "                        infer_table_structure=True,\n",
    "                        chunking_strategy=\"by_title\", \n",
    "                        max_characters=4000,  \n",
    "                        new_after_n_chars=3800\n",
    "                        )\n",
    "#pages = loader.load()\n",
    "print(f\"Loaded {len(chunks)} documents from {file6}\")"
   ]
  },
  {
   "cell_type": "code",
   "execution_count": 15,
   "id": "16b3efb2",
   "metadata": {},
   "outputs": [],
   "source": [
    "from langchain_community.document_loaders import PyPDFLoader\n",
    "from langchain.text_splitter import RecursiveCharacterTextSplitter\n",
    "\n",
    "loader = PyPDFLoader(path+file2)\n",
    "pages = loader.load()\n",
    "document_text = \"\".join([page.page_content for page in pages])\n",
    "\n",
    "# Split the document into chunks\n",
    "text_splitter = RecursiveCharacterTextSplitter(\n",
    "    chunk_size=1000,  # Adjust as needed\n",
    "    chunk_overlap=200  # Adjust as needed\n",
    ")\n",
    "chunks = text_splitter.create_documents([document_text])"
   ]
  },
  {
   "cell_type": "code",
   "execution_count": 36,
   "id": "5465e700",
   "metadata": {},
   "outputs": [
    {
     "data": {
      "text/plain": [
       "[<unstructured.documents.elements.CompositeElement at 0x230024ae550>,\n",
       " <unstructured.documents.elements.Table at 0x230024afa50>]"
      ]
     },
     "execution_count": 36,
     "metadata": {},
     "output_type": "execute_result"
    }
   ],
   "source": [
    "chunks"
   ]
  },
  {
   "cell_type": "code",
   "execution_count": 37,
   "id": "19ef0fff",
   "metadata": {},
   "outputs": [
    {
     "data": {
      "text/plain": [
       "{'last_modified': '2025-02-04T15:18:04',\n",
       " 'text_as_html': '<table><tr><td>Material (annealed)</td><td>Specified minimum tensile strength 6 2 (N/mm?)</td><td>Design temperature (°C)</td></tr><tr><td>&lt;50</td><td>75</td><td>100</td><td>125</td><td>150</td><td>175</td><td>200</td><td>225</td><td>250</td><td>275</td><td>300</td></tr><tr><td>Copper</td><td>215</td><td>41</td><td>41</td><td>40</td><td>40</td><td>34</td><td>1,13 |</td><td>0,75</td><td/><td/><td/><td/></tr><tr><td>Aluminium brass</td><td>325|</td><td>78]</td><td>78]</td><td>78]</td><td>78|</td><td>78]</td><td>51]</td><td>1,00</td><td/><td/><td/><td/></tr><tr><td>Copper- nickel 95/5 and 90/10</td><td>275</td><td>68</td><td>68</td><td>67</td><td>2,71</td><td>64</td><td>62</td><td>59</td><td>56</td><td>52</td><td>48</td><td>44</td></tr><tr><td>Copper- nickel 70/30</td><td>365</td><td>81</td><td>79</td><td>77</td><td>75</td><td>73</td><td>71</td><td>69</td><td>67</td><td>2,71</td><td>64</td><td>62</td></tr></table>',\n",
       " 'filetype': 'application/pdf',\n",
       " 'languages': ['eng'],\n",
       " 'page_number': 1,\n",
       " 'orig_elements': 'eJydVG1r2zAQ/iuHP4wW8iLJkmV3XcbovnYM2m9JCLKtJmZ+w1ZoQ9f/vpPyIq+EthQMPp2e5/TcSXfz50CXutK1WRV5cAVBliShiEMxloymY65iNU5TLccJEYwzQjKVp8EIgkoblSujkPMcZE3T5UWtjO7dulS7ZmtWG12sNwY9LAwT5Bzcj0VuNuilkeDobZuiNpY3n9NETNgImIgnZDmC41rGfBK6NY+Ts449Az1Bv+uNrmwmv4snXd61KtPBC27k2ujMFE29ykrV96u2a1KEkUnCKMX9h6LUZtdqR/19Gzi99Xqr1i6peaDrdbB03t6sqiYvHgrtSsYIE2PCxoTfU3FF4yvCLbtF5qreVqnubLLoMfrJrFS/2piqtMRro9JSz67NRqscf501oWse+1bV3xYBWwSzWyxqV6gSLlRda1Xq/PJ6ajZnkHetzpwmqIq6qLYVGF33mBX0pkPxSIiAwcWvaVV990GypjwEoRSj/NR9sa6RWrW6U2bbabhYbAlJyc2BM3U6ndbZl9J8FeQYaybFyaTEuykb+AdwOsCzAZ4N8GyAZwN8eMQ7OdNjCdMm3x3U5bObpsUkcDN3S0bFyeb0rEnOmSE/mXREQ/h7WpKR9CHfNXzh8tmPcmtvCS8p7fA1+rOY8OFlvPyAfR4v6HKgmpDPydxXcAx1kf3RJSRiKkDVOSRkSn1INqhCFJ81pQePpC945EsbMa898WbkTQ/gPjLn76qWZBoObjPyYmOvRPozpRc7SEyG3hwkkHwmx8Ob3T/W6X4KuCFlJ4SdDGe6HvZZwauXA29e0etdVwr4wKRwU8L1PbsEbBzAhwl4z4Dlg7dmBCy2jEVcEEAwDgHA5gdsesBmB2xy4NR9xH4hB9dRto9wqP/3CQr23UIUu0+CLSpEHCIGIoGYgkxASnuMDMFuJYCDA0TkwHiiYHuOlc1jSw3t+TaCnc/HYX9vyx+8LP8B3rYRPw==',\n",
       " 'file_directory': '../Data',\n",
       " 'filename': 'Table 12.pdf'}"
      ]
     },
     "execution_count": 37,
     "metadata": {},
     "output_type": "execute_result"
    }
   ],
   "source": [
    "chunks[1].metadata.to_dict()"
   ]
  },
  {
   "cell_type": "code",
   "execution_count": 7,
   "id": "a859aa7f",
   "metadata": {},
   "outputs": [
    {
     "data": {
      "text/html": [
       "   \n",
       "    <table border=\"1\" class=\"dataframe\">\n",
       "  <tbody>\n",
       "    <tr>\n",
       "      <td></td>\n",
       "    </tr>\n",
       "    <tr>\n",
       "      <td></td>\n",
       "    </tr>\n",
       "  </tbody>\n",
       "</table>\n"
      ],
      "text/plain": [
       "<IPython.core.display.HTML object>"
      ]
     },
     "metadata": {},
     "output_type": "display_data"
    }
   ],
   "source": [
    "from IPython.display import display, HTML\n",
    "correct_table = '''<table border=\"1\" class=\"dataframe\">\n",
    "    <tr>\n",
    "        <th rowspan=\"2\">Material (annealed)</th>\n",
    "        <th rowspan=\"2\">Specified minimum tensile strength (N/mm²)</th>\n",
    "        <th colspan=\"12\">Design temperature (°C)</th>\n",
    "    </tr>\n",
    "    <tr>\n",
    "        <th>≤50</th>\n",
    "        <th>75</th>\n",
    "        <th>100</th>\n",
    "        <th>125</th>\n",
    "        <th>150</th>\n",
    "        <th>175</th>\n",
    "        <th>200</th>\n",
    "        <th>225</th>\n",
    "        <th>250</th>\n",
    "        <th>275</th>\n",
    "        <th>300</th>\n",
    "    </tr>\n",
    "    <tr>\n",
    "        <td>Copper</td>\n",
    "        <td>215</td>\n",
    "        <td>41</td>\n",
    "        <td>41</td>\n",
    "        <td>40</td>\n",
    "        <td>40</td>\n",
    "        <td>34</td>\n",
    "        <td>27.5</td>\n",
    "        <td>18.5</td>\n",
    "        <td></td>\n",
    "        <td></td>\n",
    "        <td></td>\n",
    "        <td></td>\n",
    "    </tr>\n",
    "    <tr>\n",
    "        <td>Aluminium brass</td>\n",
    "        <td>325</td>\n",
    "        <td>78</td>\n",
    "        <td>78</td>\n",
    "        <td>78</td>\n",
    "        <td>78</td>\n",
    "        <td>78</td>\n",
    "        <td>51</td>\n",
    "        <td>24.5</td>\n",
    "        <td></td>\n",
    "        <td></td>\n",
    "        <td></td>\n",
    "        <td></td>\n",
    "    </tr>\n",
    "    <tr>\n",
    "        <td>Copper-nickel 95/5 and 90/10</td>\n",
    "        <td>275</td>\n",
    "        <td>68</td>\n",
    "        <td>68</td>\n",
    "        <td>67</td>\n",
    "        <td>65.5</td>\n",
    "        <td>64</td>\n",
    "        <td>62</td>\n",
    "        <td>59</td>\n",
    "        <td>56</td>\n",
    "        <td>52</td>\n",
    "        <td>48</td>\n",
    "        <td>44</td>\n",
    "    </tr>\n",
    "    <tr>\n",
    "        <td>Copper-nickel 70/30</td>\n",
    "        <td>365</td>\n",
    "        <td>81</td>\n",
    "        <td>79</td>\n",
    "        <td>77</td>\n",
    "        <td>75</td>\n",
    "        <td>73</td>\n",
    "        <td>71</td>\n",
    "        <td>69</td>\n",
    "        <td>67</td>\n",
    "        <td>65.5</td>\n",
    "        <td>64</td>\n",
    "        <td>62</td>\n",
    "    </tr>\n",
    "</table>'''\n",
    "# Define the HTML table\n",
    "html_table = '''   \n",
    "    <table border=\"1\" class=\"dataframe\">\n",
    "  <tbody>\n",
    "    <tr>\n",
    "      <td></td>\n",
    "    </tr>\n",
    "    <tr>\n",
    "      <td></td>\n",
    "    </tr>\n",
    "  </tbody>\n",
    "</table>\n",
    "'''\n",
    "\n",
    "# Display the HTML table\n",
    "display(HTML(html_table))\n"
   ]
  },
  {
   "cell_type": "code",
   "execution_count": 6,
   "id": "409edbdd",
   "metadata": {},
   "outputs": [],
   "source": [
    "import base64\n",
    "from io import BytesIO\n",
    "from PIL import Image\n",
    "\n",
    "# Base64 encoded image string\n",
    "base64_image = \"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\"\n",
    "\n",
    "# Decode the Base64 string to bytes\n",
    "image_data = base64.b64decode(base64_image)\n",
    "\n",
    "# Convert the bytes into a PIL Image\n",
    "image = Image.open(BytesIO(image_data))\n",
    "\n",
    "# Display the image\n",
    "image.show()"
   ]
  },
  {
   "cell_type": "code",
   "execution_count": 4,
   "id": "2b956391",
   "metadata": {},
   "outputs": [
    {
     "name": "stdout",
     "output_type": "stream",
     "text": [
      "Table extracted and saved as output_table.html\n"
     ]
    }
   ],
   "source": [
    "import pdfplumber\n",
    "import pandas as pd\n",
    "\n",
    "# Function to extract tables from a PDF and convert to HTML\n",
    "def extract_table_to_html(pdf_path):\n",
    "    html_output = \"\"\n",
    "\n",
    "    with pdfplumber.open(pdf_path) as pdf:\n",
    "        for page in pdf.pages:\n",
    "            tables = page.extract_tables()\n",
    "\n",
    "            for table in tables:\n",
    "                # Convert table to DataFrame for easier manipulation\n",
    "                df = pd.DataFrame(table)\n",
    "\n",
    "                # Convert DataFrame to HTML\n",
    "                html_output += df.to_html(index=False, header=False, border=1)\n",
    "\n",
    "    return html_output\n",
    "\n",
    "# Example usage\n",
    "pdf_path = path + \"BV_standard.pdf\"  # Replace with your PDF file path\n",
    "html_table = extract_table_to_html(pdf_path)\n",
    "\n",
    "# Save the HTML output to a file with UTF-8 encoding\n",
    "with open('output_table.html', 'w', encoding='utf-8') as f:\n",
    "    f.write(html_table)\n",
    "\n",
    "print(\"Table extracted and saved as output_table.html\")"
   ]
  },
  {
   "cell_type": "code",
   "execution_count": 5,
   "id": "c2d871de",
   "metadata": {},
   "outputs": [
    {
     "name": "stdout",
     "output_type": "stream",
     "text": [
      "There were 1245 tables in test_sample.pdf.\n"
     ]
    }
   ],
   "source": [
    "import pdfplumber\n",
    "\n",
    "def is_mergeable(cell):\n",
    "    \"\"\"\n",
    "    Returns True only if the cell is exactly None.\n",
    "    (We do not consider empty strings \"\" as mergeable.)\n",
    "    \"\"\"\n",
    "    return cell is None\n",
    "\n",
    "def is_group_header_row(row):\n",
    "    \"\"\"\n",
    "    Returns True if the row appears to be a group header row.\n",
    "    We define such a row as one where the first cell is not None\n",
    "    and all remaining cells are None.\n",
    "    For example:\n",
    "        [\"INERT GAS\", None, None, None, None, None]  → True\n",
    "    \"\"\"\n",
    "    if not row:\n",
    "        return False\n",
    "    # The row is a group header if the first cell is not None and every other cell is None.\n",
    "    return (row[0] is not None) and all(cell is None for cell in row[1:])\n",
    "\n",
    "def build_html_table(table_data):\n",
    "    \"\"\"\n",
    "    Build an HTML table from table_data (a list of rows, each a list of cell values)\n",
    "    applying dynamic merging.\n",
    "    \n",
    "    • Horizontal merging:\n",
    "      For a given cell, we look to the right and merge cells whose value is None.\n",
    "      \n",
    "    • Vertical merging:\n",
    "      For a given cell, we look downward and merge only if every cell in the same block\n",
    "      (from the current column up to the horizontal block) is None.\n",
    "      However, if the very next row is a group header row (i.e. its first cell is not None and\n",
    "      all others are None), we stop vertical merging so that the group header remains separate.\n",
    "    \n",
    "    All cells are rendered using <td> (i.e. no special treatment for “header rows”).\n",
    "    \"\"\"\n",
    "    nrows = len(table_data)\n",
    "    ncols = max(len(row) for row in table_data)\n",
    "    \n",
    "    # used[i][j] will be True if that cell has already been merged into another cell.\n",
    "    used = [[False] * ncols for _ in range(nrows)]\n",
    "    \n",
    "    html = '<table border=\"1\" class=\"dataframe\">\\n'\n",
    "    for i in range(nrows):\n",
    "        html += \"  <tr>\\n\"\n",
    "        for j in range(ncols):\n",
    "            if used[i][j]:\n",
    "                continue  # skip cells already merged\n",
    "            \n",
    "            # Get the cell text; if missing or None, use an empty string.\n",
    "            try:\n",
    "                cell_text = table_data[i][j]\n",
    "            except IndexError:\n",
    "                cell_text = \"\"\n",
    "            if cell_text is None:\n",
    "                cell_text = \"\"\n",
    "            cell_text = cell_text.strip()\n",
    "            \n",
    "            # --- Horizontal merging (compute colspan) ---\n",
    "            colspan = 1\n",
    "            for k in range(j + 1, ncols):\n",
    "                if (k < len(table_data[i])) and (not used[i][k]) and is_mergeable(table_data[i][k]):\n",
    "                    colspan += 1\n",
    "                    used[i][k] = True\n",
    "                else:\n",
    "                    break\n",
    "            \n",
    "            # --- Vertical merging (compute rowspan) ---\n",
    "            rowspan = 1\n",
    "            for ii in range(i + 1, nrows):\n",
    "                # If the next row is a group header row, do not merge vertically.\n",
    "                if is_group_header_row(table_data[ii]):\n",
    "                    break\n",
    "                valid = True\n",
    "                for jj in range(j, j + colspan):\n",
    "                    if (jj >= len(table_data[ii])) or used[ii][jj] or (not is_mergeable(table_data[ii][jj])):\n",
    "                        valid = False\n",
    "                        break\n",
    "                if valid:\n",
    "                    rowspan += 1\n",
    "                    for jj in range(j, j + colspan):\n",
    "                        used[ii][jj] = True\n",
    "                else:\n",
    "                    break\n",
    "            \n",
    "            attrs = \"\"\n",
    "            if rowspan > 1:\n",
    "                attrs += f' rowspan=\"{rowspan}\"'\n",
    "            if colspan > 1:\n",
    "                attrs += f' colspan=\"{colspan}\"'\n",
    "            \n",
    "            html += f'    <td{attrs}>{cell_text}</td>\\n'\n",
    "        html += \"  </tr>\\n\"\n",
    "    html += \"</table>\\n\"\n",
    "    \n",
    "    return html\n",
    "\n",
    "def extract_tables_to_html(pdf_path):\n",
    "    \"\"\"\n",
    "    Opens the PDF at pdf_path, extracts tables using pdfplumber,\n",
    "    and returns the HTML string (with merged cells) for all tables.\n",
    "    \"\"\"\n",
    "    html_tables = []\n",
    "    \n",
    "    with pdfplumber.open(pdf_path) as pdf:\n",
    "        for page in pdf.pages:\n",
    "            tables = page.extract_tables()\n",
    "            for table in tables:\n",
    "                # table is a list-of-lists (rows), with cell values (strings or None)\n",
    "                html_table = build_html_table(table)\n",
    "                html_tables.append(html_table)\n",
    "    \n",
    "    return html_tables\n",
    "\n",
    "# Example usage:\n",
    "pdf_path = path + \"BV_standard.pdf\"  # Replace with your actual PDF file path.\n",
    "tables = extract_tables_to_html(pdf_path)\n",
    "print(f\"There were {len(tables)} tables in {file2}.\")\n",
    "# Save the HTML output to a file with UTF-8 encoding.\n",
    "#with open('output_table.html', 'w', encoding='utf-8') as f:\n",
    "#    f.write(html_tables)\n"
   ]
  },
  {
   "cell_type": "code",
   "execution_count": 4,
   "id": "4dfdbaed",
   "metadata": {},
   "outputs": [],
   "source": [
    "from docling.document_converter import DocumentConverter\n",
    "\n",
    "source = path + file1  # document per local path or URL\n",
    "converter = DocumentConverter()\n",
    "result = converter.convert(source)\n",
    "md = result.document.export_to_markdown() "
   ]
  },
  {
   "cell_type": "code",
   "execution_count": 9,
   "id": "21ffe492",
   "metadata": {},
   "outputs": [
    {
     "name": "stdout",
     "output_type": "stream",
     "text": [
      "<bound method DoclingDocument.export_to_html of DoclingDocument(schema_name='DoclingDocument', version='1.1.0', name='BV_page237', origin=DocumentOrigin(mimetype='application/pdf', binary_hash=17612189631379352603, filename='BV_page237.pdf', uri=None), furniture=GroupItem(self_ref='#/furniture', parent=None, children=[], content_layer=<ContentLayer.FURNITURE: 'furniture'>, name='_root_', label=<GroupLabel.UNSPECIFIED: 'unspecified'>), body=GroupItem(self_ref='#/body', parent=None, children=[RefItem(cref='#/texts/0'), RefItem(cref='#/texts/1'), RefItem(cref='#/pictures/0'), RefItem(cref='#/tables/0'), RefItem(cref='#/texts/2'), RefItem(cref='#/pictures/1'), RefItem(cref='#/texts/3'), RefItem(cref='#/texts/4')], content_layer=<ContentLayer.BODY: 'body'>, name='_root_', label=<GroupLabel.UNSPECIFIED: 'unspecified'>), groups=[], texts=[TextItem(self_ref='#/texts/0', parent=RefItem(cref='#/body'), children=[], content_layer=<ContentLayer.BODY: 'body'>, label=<DocItemLabel.CAPTION: 'caption'>, prov=[ProvenanceItem(page_no=1, bbox=BoundingBox(l=210.83999633789062, t=785.7160034179688, r=384.6839904785156, b=777.780029296875, coord_origin=<CoordOrigin.BOTTOMLEFT: 'BOTTOMLEFT'>), charspan=(0, 40))], orig='Figure 2 : Examples of mechanical joints', text='Figure 2 : Examples of mechanical joints'), TextItem(self_ref='#/texts/1', parent=RefItem(cref='#/body'), children=[], content_layer=<ContentLayer.BODY: 'body'>, label=<DocItemLabel.CAPTION: 'caption'>, prov=[ProvenanceItem(page_no=1, bbox=BoundingBox(l=205.55799865722656, t=324.677001953125, r=389.8420104980469, b=316.7409973144531, coord_origin=<CoordOrigin.BOTTOMLEFT: 'BOTTOMLEFT'>), charspan=(0, 44))], orig='Table 17  : Application of mechanical joints', text='Table 17  : Application of mechanical joints'), TextItem(self_ref='#/texts/2', parent=RefItem(cref='#/body'), children=[], content_layer=<ContentLayer.FURNITURE: 'furniture'>, label=<DocItemLabel.PAGE_FOOTER: 'page_footer'>, prov=[ProvenanceItem(page_no=1, bbox=BoundingBox(l=52.560001373291016, t=40.03200149536133, r=208.22500610351562, b=26.1200008392334, coord_origin=<CoordOrigin.BOTTOMLEFT: 'BOTTOMLEFT'>), charspan=(0, 70))], orig='Rules for the Classification of Steel Ships - NR467 Pt C, Ch 1, Sec 10', text='Rules for the Classification of Steel Ships - NR467 Pt C, Ch 1, Sec 10'), TextItem(self_ref='#/texts/3', parent=RefItem(cref='#/body'), children=[], content_layer=<ContentLayer.FURNITURE: 'furniture'>, label=<DocItemLabel.PAGE_FOOTER: 'page_footer'>, prov=[ProvenanceItem(page_no=1, bbox=BoundingBox(l=500.635009765625, t=40.03200149536133, r=542.9240112304688, b=33.887001037597656, coord_origin=<CoordOrigin.BOTTOMLEFT: 'BOTTOMLEFT'>), charspan=(0, 12))], orig='January 2025', text='January 2025'), TextItem(self_ref='#/texts/4', parent=RefItem(cref='#/body'), children=[], content_layer=<ContentLayer.FURNITURE: 'furniture'>, label=<DocItemLabel.PAGE_FOOTER: 'page_footer'>, prov=[ProvenanceItem(page_no=1, bbox=BoundingBox(l=527.9959716796875, t=24.558000564575195, r=542.989990234375, b=16.62299919128418, coord_origin=<CoordOrigin.BOTTOMLEFT: 'BOTTOMLEFT'>), charspan=(0, 3))], orig='237', text='237')], pictures=[PictureItem(self_ref='#/pictures/0', parent=RefItem(cref='#/body'), children=[], content_layer=<ContentLayer.BODY: 'body'>, label=<DocItemLabel.PICTURE: 'picture'>, prov=[ProvenanceItem(page_no=1, bbox=BoundingBox(l=117.42950439453125, t=773.8028564453125, r=477.8061218261719, b=335.01593017578125, coord_origin=<CoordOrigin.BOTTOMLEFT: 'BOTTOMLEFT'>), charspan=(0, 84))], captions=[RefItem(cref='#/texts/0'), RefItem(cref='#/texts/1')], references=[], footnotes=[], image=None, annotations=[]), PictureItem(self_ref='#/pictures/1', parent=RefItem(cref='#/body'), children=[], content_layer=<ContentLayer.BODY: 'body'>, label=<DocItemLabel.PICTURE: 'picture'>, prov=[ProvenanceItem(page_no=1, bbox=BoundingBox(l=279.3351745605469, t=60.00372314453125, r=316.01416015625, b=14.10968017578125, coord_origin=<CoordOrigin.BOTTOMLEFT: 'BOTTOMLEFT'>), charspan=(0, 0))], captions=[], references=[], footnotes=[], image=None, annotations=[])], tables=[TableItem(self_ref='#/tables/0', parent=RefItem(cref='#/body'), children=[], content_layer=<ContentLayer.BODY: 'body'>, label=<DocItemLabel.TABLE: 'table'>, prov=[ProvenanceItem(page_no=1, bbox=BoundingBox(l=51.90119171142578, t=305.5255126953125, r=542.9993896484375, b=67.3204345703125, coord_origin=<CoordOrigin.BOTTOMLEFT: 'BOTTOMLEFT'>), charspan=(0, 0))], captions=[], references=[], footnotes=[], image=None, data=TableData(table_cells=[], num_rows=0, num_cols=0, grid=[]))], key_value_items=[], pages={1: PageItem(size=Size(width=595.3200073242188, height=841.9200439453125), image=None, page_no=1)})>\n"
     ]
    }
   ],
   "source": [
    "print(result.document.export_to_html)"
   ]
  },
  {
   "cell_type": "code",
   "execution_count": 7,
   "id": "ec1a7e4f",
   "metadata": {},
   "outputs": [
    {
     "name": "stdout",
     "output_type": "stream",
     "text": [
      "Processing ../Data/BV_page231_processed.pdf...\n",
      "[                                        ] (0/1=======================================[========================================] (1/1]\n",
      "```\n",
      "             Table 12 : Permissible stresses for copper and copper alloy pipes\n",
      "              Specified Design temperature (°C)\n",
      " Material (annealed) minimum tensile\n",
      "             strength (N/mm?) <50 75 100 125 150 175 200 | 225 250 | 275 300\n",
      " Copper 215 Al 41 40 40 34 27,5 18,5\n",
      " Aluminium brass 325 78 78 78 78 78 51 24,5\n",
      " Copper-nickel 95/5\n",
      " and 90/10 275 68 68 67 65,5 64 62 59 56 52 48 44\n",
      " Copper-nickel 70/30 365 81 79 77 75 73 71 69 67 65,5 64 62\n",
      "2.2.3. Thickness reduction due to bending\n",
      "a) Unless otherwise justified, the thickness reduction b due to bending is to be determined by the following formula:\n",
      "    _ Dt\n",
      "     2,5p\n",
      "  where:\n",
      "  p : Bending radius measured on the centre line of the pipe, in mm\n",
      "         as defined in [1.4.1]\n",
      "   to : as defined in [2.2.1].\n",
      "b) When the bending radius is not given, the thickness reduction is to be taken equal to:\n",
      "   to\n",
      "   10\n",
      "c) For straight pipes, the thickness reduction is to be taken equal to 0.\n",
      "2.2.4 Corrosion allowance\n",
      "The values of corrosion allowance c are given for steel pipes in Tab 13 and for non-ferrous metallic pipes in Tab 14.\n",
      "                   Table 13 : Corrosion allowance for steel pipes\n",
      "                   Piping system Corrosion allowance (mm)\n",
      " Superheated steam 0,3\n",
      " Saturated steam 0,8\n",
      " Steam coils in cargo tanks and liquid fuel tanks 2,0\n",
      " Feed water for boilers in open circuit systems 1,5\n",
      " Feed water for boilers in closed circuit systems 0,5\n",
      " Blow-down systems for boilers 1,5\n",
      "Compressed air 1,0\n",
      " Hydraulic oil 0,3\n",
      " Lubricating oil 0,3\n",
      " Fuel oil 1,0\n",
      " Thermal oil 1,0\n",
      " Fresh water 0,8\n",
      " Sea water 3,0\n",
      " Refrigerants referred to in Ch 1, Sec 16 0,3\n",
      " Cargo systems for oil tankers 2,0\n",
      " Cargo systems for ships carrying liquefied gases 0,3\n",
      " Note 1: For pipes passing through tanks, an additional corrosion allowance is to be considered in order to account for the external\n",
      " corrosion.\n",
      "\n",
      "```\n",
      "|Material (annealed)|Specified minimum tensile strength (N/mm?)|Design temperature (°C)|Col4|Col5|Col6|Col7|Col8|Col9|Col10|Col11|Col12|Col13|\n",
      "|---|---|---|---|---|---|---|---|---|---|---|---|---|\n",
      "|||<50|75|100|125|150|175|200 ||225|250 ||275|300|\n",
      "|Copper|215|Al|41|40|40|34|27,5|18,5|||||\n",
      "|Aluminium brass|325|78|78|78|78|78|51|24,5|||||\n",
      "|Copper-nickel 95/5 and 90/10|275|68|68|67|65,5|64|62|59|56|52|48|44|\n",
      "|Copper-nickel 70/30|365|81|79|77|75|73|71|69|67|65,5|64|62|\n",
      "\n",
      "|Piping system|Corrosion allowance (mm)|\n",
      "|---|---|\n",
      "|Superheated steam|0,3|\n",
      "|Saturated steam|0,8|\n",
      "|Steam coils in cargo tanks and liquid fuel tanks|2,0|\n",
      "|Feed water for boilers in open circuit systems|1,5|\n",
      "|Feed water for boilers in closed circuit systems|0,5|\n",
      "|Blow-down systems for boilers|1,5|\n",
      "|Compressed air|1,0|\n",
      "|Hydraulic oil|0,3|\n",
      "|Lubricating oil|0,3|\n",
      "|Fuel oil|1,0|\n",
      "|Thermal oil|1,0|\n",
      "|Fresh water|0,8|\n",
      "|Sea water|3,0|\n",
      "|Refrigerants referred to in Ch 1, Sec 16|0,3|\n",
      "|Cargo systems for oil tankers|2,0|\n",
      "|Cargo systems for ships carrying liquefied gases|0,3|\n",
      "\n",
      "\n",
      "-----\n",
      "\n",
      "\n"
     ]
    }
   ],
   "source": [
    "import pymupdf4llm\n",
    "\n",
    "md_text = pymupdf4llm.to_markdown(path+\"BV_page231_processed.pdf\")\n",
    "\n",
    "print(md_text)"
   ]
  },
  {
   "cell_type": "markdown",
   "id": "2924814c",
   "metadata": {},
   "source": [
    "## Text"
   ]
  },
  {
   "cell_type": "code",
   "execution_count": 49,
   "id": "fa372921",
   "metadata": {},
   "outputs": [
    {
     "data": {
      "text/plain": [
       "'NATIONAL PARTNERSHIP FOR QUALITY AFTERSCHOOL LEARNING www.sedl.org/afterschool/toolkits\\n\\n����������� �������� �������\\n\\nTutoring to Enhance Science Skills Tutoring Two: Learning to Make Data Tables . . . . . . . . . . . . . . . . . . . . . . . . . . . . . . . . . . . . . . . . . . . . . . . . . . . . . . . . . . . . . . . . . . . . . . . . . . . . . . . . . . . . . . . . . . . . . .\\n\\nSample Data for Data Tables\\n\\nUse these data to create data tables following the Guidelines for Making a Data Table and Checklist for a Data Table.\\n\\nExample 1: Pet Survey (GR 2–3) Ms. Hubert’s afterschool students took a survey of the 600 students at Morales Elementary School. Students were asked to select their favorite pet from a list of eight animals. Here are the results.\\n\\nLizard 25, Dog 250, Cat 115, Bird 50, Guinea pig 30, Hamster 45, Fish 75, Ferret 10\\n\\nExample 2: Electromagnets—Increasing Coils (GR 3–5) The following data were collected using an electromagnet with a 1.5 volt battery, a switch, a piece of #20 insulated wire, and a nail. Three trials were run. Safety precautions in repeating this experiment include using safety goggles or safety spectacles and avoiding short circuits.<table><thead><th>Number of Coils</th><th>Number of Paperclips</th></thead><tr><td></td><td>3,5,4</td></tr><tr><td></td><td>11, 10, 12</td></tr><tr><td></td><td>15, 13, 14</td></tr></table>Number of Coils Number of Paperclips\\n\\n10\\n\\n15\\n\\n20\\n\\n5\\n\\n7, 8, 6\\n\\n3, 5, 4\\n\\n11, 10, 12\\n\\n15, 13, 14\\n\\nExample 3: pH of Substances (GR 5–10) The following are pH values of common household substances taken by three different teams using pH probes. Safety precautions in repeating this experiment include hooded ventilation, chemical-splash safety goggles, gloves, and apron. Do not use bleach, ammonia, or strong acids with children.\\n\\nLemon juice 2.4, 2.0, 2.2; Baking soda (1 Tbsp) in Water (1 cup) 8.4, 8.3, 8.7; Orange juice 3.5, 4.0, 3.4; Battery acid 1.0, 0.7, 0.5; Apples 3.0, 3.2, 3.5; Tomatoes 4.5, 4.2, 4.0; Bottled water 6.7, 7.0, 7.2; Milk of magnesia 10.5, 10.3, 10.6; Liquid hand soap 9.0, 10.0, 9.5; Vinegar 2.2, 2.9, 3.0; Household bleach 12.5, 12.5, 12.7; Milk 6.6, 6.5, 6.4; Household ammonia 11.5, 11.0, 11.5; Lye 13.0, 13.5, 13.4; and Sodium hydroxide 14.0, 14.0, 13.9; Anti-freeze 10.1, 10.9, 9.7; Windex 9.9. 10.2, 9.5; Liquid detergent 10.5, 10.0, 10.3; and Cola 3.0, 2.5, 3.2\\n\\nTeaching tip: The pH scale is from 0 to 14. Have students make two data tables, one with the data as given and one with the pH scale 0 to 14 with the substances’ average pH in rank order on the scale (Battery acid at the lower end and Sodium hydroxide at the upper end) or create a pH graphic organizer.\\n\\n1\\n\\nExample 4: Automobile Land Speed Records (GR 5-10) In the first recorded automobile race in 1898, Count Gaston de Chasseloup-Laubat of Paris, France, drove 1 kilometer in 57 seconds for an average speed of 39.2 miles per hour (mph) or 63.1 kilometers per hour (kph). In 1904, Henry Ford drove his Ford Arrow across frozen Lake St. Clair, MI, at an average speed of 91.4 mph. Now, the North American Eagle is trying to break a land speed record of 800 mph. The Federation International de L’Automobile (FIA), the world’s governing body for motor sport and land speed records, recorded the following land speed records. (Retrieved on February 5, 2006, from http://www.landspeed.com/lsrinfo.asp.)Speed (mph)\\n\\nDriver\\n\\nCar\\n\\nEngine\\n\\nDate\\n\\n434.22\\n\\n413.199\\n\\n468.719\\n\\n555.127\\n\\n576.553\\n\\n600.601\\n\\n622.407\\n\\n633.468\\n\\n763.035\\n\\n536.712\\n\\n526.277\\n\\n407.447\\n\\nExample 5: Distance and Time (GR 8-10) The following data were collected using a car with a water clock set to release a drop in a unit of time and a meter stick. The car rolled down an inclined plane. Three trials were run. Create a data table with an average distance column and an average velocity column, create an average distance-time graph, and draw the best-fit line or curve. Estimate the car’s distance traveled and velocity at six drops of water. Describe the motion of the car. Is it going at a constant speed, accelerating, or decelerating? How do you know?<table><tr><td rowspan=\"2\">Speed (mph) 407.447</td><td>Driver</td><td>Car</td><td>Eng ine</td><td>Date</td></tr><tr><td></td><td>Craig Breedlove</td><td>Spirit of America</td><td>GE J 47</td><td>8/5/63</td></tr><tr><td>413.199</td><td>Tom Green</td><td>Wingfoot Express</td><td>WE J46</td><td>10/2/64</td></tr><tr><td>434.22</td><td>Art Arfons</td><td>Green Monster</td><td>GE J   79</td><td>10/5/64</td></tr><tr><td>468.719</td><td>Craig Breed ove</td><td>Spirit of America</td><td>GE J 79</td><td>10/13/64</td></tr><tr><td>526.277</td><td>Craig Breed ove</td><td>Spirit of America</td><td>GE J 79</td><td>10/15/65</td></tr><tr><td>536.712</td><td>Art Arfons</td><td>Green Monster</td><td>GE J 79</td><td>10/27/65</td></tr><tr><td>555.127</td><td>Craig Breed ove</td><td>Spirit of America, Sonic 1</td><td>GE J 79</td><td>11/2/65</td></tr><tr><td>576.553</td><td>Art Arfons</td><td>Green Monster</td><td>GE J 79</td><td>11/7/65</td></tr><tr><td>600.601</td><td>Craig Breed ove</td><td>Spirit of America, Sonic 1</td><td>GE J 79</td><td>11/15/65</td></tr><tr><td>622.407</td><td>Gary Gabelich</td><td>Blue Flame</td><td>Rocket</td><td>10/23/70</td></tr><tr><td>633.468</td><td>Richard Noble</td><td>Thrust 2</td><td>RR RG 146</td><td>10/4/83</td></tr></table>Time (drops of water) Distance (cm)<table><thead><th>Time (drops of water)</th><th>Distance (cm)</th></thead><tr><td></td><td>29, 31, 30</td></tr><tr><td></td><td>59, 58, 61</td></tr><tr><td></td><td>102, 100, 98</td></tr><tr><td></td><td>122, 125, 127</td></tr></table>Art Arfons\\n\\nArt Arfons\\n\\nArt Arfons\\n\\nAndy Green\\n\\nTom Green\\n\\nGary Gabelich\\n\\nRichard Noble\\n\\nCraig Breedlove\\n\\nCraig Breedlove\\n\\nCraig Breedlove\\n\\nCraig Breedlove\\n\\nCraig Breedlove\\n\\n4\\n\\n1\\n\\n3\\n\\n2\\n\\n5\\n\\nThrust 2\\n\\nThrust SSC\\n\\nBlue Flame\\n\\nGreen Monster\\n\\nGreen Monster\\n\\nGreen Monster\\n\\nSpirit of America\\n\\nSpirit of America\\n\\nWingfoot Express\\n\\nSpirit of America\\n\\nSpirit of America, Sonic 1\\n\\nSpirit of America, Sonic 1\\n\\n10,11,9\\n\\n59, 58, 61\\n\\n29, 31, 30\\n\\n102, 100, 98\\n\\n122, 125, 127\\n\\nGE J47\\n\\nGE J79\\n\\nGE J79\\n\\nRR Spey\\n\\nGE J79\\n\\nRocket\\n\\nGE J79\\n\\nGE J79\\n\\nGE J79\\n\\nGE J79\\n\\nWE J46\\n\\nRR RG 146\\n\\n8/5/63\\n\\n10/2/64\\n\\n10/5/64\\n\\n11/7/65\\n\\n11/2/65\\n\\n10/15/65\\n\\n10/27/65\\n\\n10/4/83\\n\\n10/15/97\\n\\n10/13/64\\n\\n10/23/70\\n\\n11/15/65\\n\\n© 2006 WGBH Educational Foundation. All rights reserved.\\n\\n2\\n\\n2'"
      ]
     },
     "execution_count": 49,
     "metadata": {},
     "output_type": "execute_result"
    }
   ],
   "source": [
    "document_text = \"\".join([chunk.metadata.text_as_html if 'Table' in str(type(chunk)) else chunk.text for chunk in chunks])\n",
    "document_text"
   ]
  },
  {
   "cell_type": "code",
   "execution_count": 47,
   "id": "d5a76d6e",
   "metadata": {},
   "outputs": [
    {
     "data": {
      "text/plain": [
       "[Document(metadata={'source': '../Data/test_sample.pdf', 'coordinates': {'points': ((150.0, 149.1642499999999), (150.0, 215.8003611111111), (1140.4117801666675, 215.8003611111111), (1140.4117801666675, 149.1642499999999)), 'system': 'PixelSpace', 'layout_width': 1700, 'layout_height': 2200}, 'filename': 'test_sample.pdf', 'file_directory': '../Data', 'last_modified': '2025-01-26T15:59:25', 'filetype': 'application/pdf', 'page_number': 1, 'category': 'CompositeElement', 'element_id': '62b9a05766ea6dad665f549f87a727e7'}, page_content='NATIONAL PARTNERSHIP FOR QUALITY AFTERSCHOOL LEARNING www.sedl.org/afterschool/toolkits\\n\\n����������� �������� �������\\n\\nTutoring to Enhance Science Skills Tutoring Two: Learning to Make Data Tables . . . . . . . . . . . . . . . . . . . . . . . . . . . . . . . . . . . . . . . . . . . . . . . . . . . . . . . . . . . . . . . . . . . . . . . . . . . . . . . . . . . . . . . . . . . . . .\\n\\nSample Data for Data Tables\\n\\nUse these data to create data tables following the Guidelines for Making a Data Table and Checklist for a Data Table.\\n\\nExample 1: Pet Survey (GR 2–3) Ms. Hubert’s afterschool students took a survey of the 600 students at Morales Elementary School. Students were asked to select their favorite pet from a list of eight animals. Here are the results.\\n\\nLizard 25, Dog 250, Cat 115, Bird 50, Guinea pig 30, Hamster 45, Fish 75, Ferret 10\\n\\nExample 2: Electromagnets—Increasing Coils (GR 3–5) The following data were collected using an electromagnet with a 1.5 volt battery, a switch, a piece of #20 insulated wire, and a nail. Three trials were run. Safety precautions in repeating this experiment include using safety goggles or safety spectacles and avoiding short circuits.'),\n",
       " Document(metadata={'source': '../Data/test_sample.pdf', 'coordinates': {'points': ((291.8168640136719, 1050.9088134765625), (291.8168640136719, 1310.6690673828125), (1053.8140869140625, 1310.6690673828125), (1053.8140869140625, 1050.9088134765625)), 'system': 'PixelSpace', 'layout_width': 1700, 'layout_height': 2200}, 'filename': 'test_sample.pdf', 'file_directory': '../Data', 'last_modified': '2025-01-26T15:59:25', 'filetype': 'application/pdf', 'page_number': 1, 'detection_class_prob': 0.9124415516853333, 'category': 'Table', 'element_id': '9db3abcedeb8e2b91253473dfb9c1ce1'}, page_content='Number of Coils Number of Paperclips 11, 10, 12 15, 13, 14'),\n",
       " Document(metadata={'source': '../Data/test_sample.pdf', 'coordinates': {'points': ((324.84725, 1069.022611111111), (324.84725, 1099.6087222222222), (1007.176722222222, 1099.6087222222222), (1007.176722222222, 1069.022611111111)), 'system': 'PixelSpace', 'layout_width': 1700, 'layout_height': 2200}, 'filename': 'test_sample.pdf', 'file_directory': '../Data', 'last_modified': '2025-01-26T15:59:25', 'filetype': 'application/pdf', 'page_number': 1, 'category': 'CompositeElement', 'element_id': 'a62933dbf96b9e6220a64c6dd04490fd'}, page_content='Number of Coils Number of Paperclips\\n\\n10\\n\\n15\\n\\n20\\n\\n5\\n\\n7, 8, 6\\n\\n3, 5, 4\\n\\n11, 10, 12\\n\\n15, 13, 14\\n\\nExample 3: pH of Substances (GR 5–10) The following are pH values of common household substances taken by three different teams using pH probes. Safety precautions in repeating this experiment include hooded ventilation, chemical-splash safety goggles, gloves, and apron. Do not use bleach, ammonia, or strong acids with children.\\n\\nLemon juice 2.4, 2.0, 2.2; Baking soda (1 Tbsp) in Water (1 cup) 8.4, 8.3, 8.7; Orange juice 3.5, 4.0, 3.4; Battery acid 1.0, 0.7, 0.5; Apples 3.0, 3.2, 3.5; Tomatoes 4.5, 4.2, 4.0; Bottled water 6.7, 7.0, 7.2; Milk of magnesia 10.5, 10.3, 10.6; Liquid hand soap 9.0, 10.0, 9.5; Vinegar 2.2, 2.9, 3.0; Household bleach 12.5, 12.5, 12.7; Milk 6.6, 6.5, 6.4; Household ammonia 11.5, 11.0, 11.5; Lye 13.0, 13.5, 13.4; and Sodium hydroxide 14.0, 14.0, 13.9; Anti-freeze 10.1, 10.9, 9.7; Windex 9.9. 10.2, 9.5; Liquid detergent 10.5, 10.0, 10.3; and Cola 3.0, 2.5, 3.2\\n\\nTeaching tip: The pH scale is from 0 to 14. Have students make two data tables, one with the data as given and one with the pH scale 0 to 14 with the substances’ average pH in rank order on the scale (Battery acid at the lower end and Sodium hydroxide at the upper end) or create a pH graphic organizer.\\n\\n1\\n\\nExample 4: Automobile Land Speed Records (GR 5-10) In the first recorded automobile race in 1898, Count Gaston de Chasseloup-Laubat of Paris, France, drove 1 kilometer in 57 seconds for an average speed of 39.2 miles per hour (mph) or 63.1 kilometers per hour (kph). In 1904, Henry Ford drove his Ford Arrow across frozen Lake St. Clair, MI, at an average speed of 91.4 mph. Now, the North American Eagle is trying to break a land speed record of 800 mph. The Federation International de L’Automobile (FIA), the world’s governing body for motor sport and land speed records, recorded the following land speed records. (Retrieved on February 5, 2006, from http://www.landspeed.com/lsrinfo.asp.)'),\n",
       " Document(metadata={'source': '../Data/test_sample.pdf', 'coordinates': {'points': ((183.33333333333331, 559.6975833333333), (183.33333333333331, 587.475361111111), (387.0277777777777, 587.475361111111), (387.0277777777777, 559.6975833333333)), 'system': 'PixelSpace', 'layout_width': 1700, 'layout_height': 2200}, 'filename': 'test_sample.pdf', 'file_directory': '../Data', 'last_modified': '2025-01-26T15:59:25', 'filetype': 'application/pdf', 'page_number': 2, 'category': 'CompositeElement', 'element_id': 'f5e578568b026923a6eef72859f562d3'}, page_content='Speed (mph)\\n\\nDriver\\n\\nCar\\n\\nEngine\\n\\nDate\\n\\n434.22\\n\\n413.199\\n\\n468.719\\n\\n555.127\\n\\n576.553\\n\\n600.601\\n\\n622.407\\n\\n633.468\\n\\n763.035\\n\\n536.712\\n\\n526.277\\n\\n407.447\\n\\nExample 5: Distance and Time (GR 8-10) The following data were collected using a car with a water clock set to release a drop in a unit of time and a meter stick. The car rolled down an inclined plane. Three trials were run. Create a data table with an average distance column and an average velocity column, create an average distance-time graph, and draw the best-fit line or curve. Estimate the car’s distance traveled and velocity at six drops of water. Describe the motion of the car. Is it going at a constant speed, accelerating, or decelerating? How do you know?'),\n",
       " Document(metadata={'source': '../Data/test_sample.pdf', 'coordinates': {'points': ((176.61688232421875, 562.5872192382812), (176.61688232421875, 1273.718017578125), (1508.6934814453125, 1273.718017578125), (1508.6934814453125, 562.5872192382812)), 'system': 'PixelSpace', 'layout_width': 1700, 'layout_height': 2200}, 'filename': 'test_sample.pdf', 'file_directory': '../Data', 'last_modified': '2025-01-26T15:59:25', 'filetype': 'application/pdf', 'page_number': 2, 'detection_class_prob': 0.9361858367919922, 'category': 'Table', 'element_id': '25d4d2dfba51085f73e523ab600d5850'}, page_content='Speed (mph) Driver Engine Date 407.447 Craig Breedlove Spirit of America GE J47 8/5/63'),\n",
       " Document(metadata={'source': '../Data/test_sample.pdf', 'coordinates': {'points': ((350.0, 1642.0226111111112), (350.0, 1672.5781666666667), (1033.6744722222222, 1672.5781666666667), (1033.6744722222222, 1642.0226111111112)), 'system': 'PixelSpace', 'layout_width': 1700, 'layout_height': 2200}, 'filename': 'test_sample.pdf', 'file_directory': '../Data', 'last_modified': '2025-01-26T15:59:25', 'filetype': 'application/pdf', 'page_number': 2, 'category': 'CompositeElement', 'element_id': '355ad971367dce83cc64a33e570ecc48'}, page_content='Time (drops of water) Distance (cm)'),\n",
       " Document(metadata={'source': '../Data/test_sample.pdf', 'coordinates': {'points': ((352.00677490234375, 1640.8363037109375), (352.00677490234375, 1925.5609130859375), (1104.8416748046875, 1925.5609130859375), (1104.8416748046875, 1640.8363037109375)), 'system': 'PixelSpace', 'layout_width': 1700, 'layout_height': 2200}, 'filename': 'test_sample.pdf', 'file_directory': '../Data', 'last_modified': '2025-01-26T15:59:25', 'filetype': 'application/pdf', 'page_number': 2, 'detection_class_prob': 0.9190366268157959, 'category': 'Table', 'element_id': '26bbc9d2b14b9c0cdbbf40970166f250'}, page_content='Time (drops of water) Distance (cm) 10,11,9 29, 31, 30 59, 58, 61 102, 100, 98 122, 125, 127'),\n",
       " Document(metadata={'source': '../Data/test_sample.pdf', 'coordinates': {'points': ((458.3333333333333, 919.6698333333333), (458.3333333333333, 947.4476111111111), (598.1944444444445, 947.4476111111111), (598.1944444444445, 919.6698333333333)), 'system': 'PixelSpace', 'layout_width': 1700, 'layout_height': 2200}, 'filename': 'test_sample.pdf', 'file_directory': '../Data', 'last_modified': '2025-01-26T15:59:25', 'filetype': 'application/pdf', 'page_number': 2, 'category': 'CompositeElement', 'element_id': '32ef82fad1ed73b30868447517c8c8cd'}, page_content='Art Arfons\\n\\nArt Arfons\\n\\nArt Arfons\\n\\nAndy Green\\n\\nTom Green\\n\\nGary Gabelich\\n\\nRichard Noble\\n\\nCraig Breedlove\\n\\nCraig Breedlove\\n\\nCraig Breedlove\\n\\nCraig Breedlove\\n\\nCraig Breedlove\\n\\n4\\n\\n1\\n\\n3\\n\\n2\\n\\n5\\n\\nThrust 2\\n\\nThrust SSC\\n\\nBlue Flame\\n\\nGreen Monster\\n\\nGreen Monster\\n\\nGreen Monster\\n\\nSpirit of America\\n\\nSpirit of America\\n\\nWingfoot Express\\n\\nSpirit of America\\n\\nSpirit of America, Sonic 1\\n\\nSpirit of America, Sonic 1\\n\\n10,11,9\\n\\n59, 58, 61\\n\\n29, 31, 30\\n\\n102, 100, 98\\n\\n122, 125, 127\\n\\nGE J47\\n\\nGE J79\\n\\nGE J79\\n\\nRR Spey\\n\\nGE J79\\n\\nRocket\\n\\nGE J79\\n\\nGE J79\\n\\nGE J79\\n\\nGE J79\\n\\nWE J46\\n\\nRR RG 146\\n\\n8/5/63\\n\\n10/2/64\\n\\n10/5/64\\n\\n11/7/65\\n\\n11/2/65\\n\\n10/15/65\\n\\n10/27/65\\n\\n10/4/83\\n\\n10/15/97\\n\\n10/13/64\\n\\n10/23/70\\n\\n11/15/65\\n\\n© 2006 WGBH Educational Foundation. All rights reserved.\\n\\n2\\n\\n2')]"
      ]
     },
     "execution_count": 47,
     "metadata": {},
     "output_type": "execute_result"
    }
   ],
   "source": [
    "pages"
   ]
  },
  {
   "cell_type": "markdown",
   "id": "5b876332",
   "metadata": {},
   "source": [
    "## Tables"
   ]
  },
  {
   "cell_type": "code",
   "execution_count": 1,
   "id": "6219ee4b",
   "metadata": {},
   "outputs": [
    {
     "name": "stderr",
     "output_type": "stream",
     "text": [
      "c:\\Users\\muhammu1\\AppData\\Local\\Programs\\Python\\Python311\\Lib\\site-packages\\tqdm\\auto.py:21: TqdmWarning: IProgress not found. Please update jupyter and ipywidgets. See https://ipywidgets.readthedocs.io/en/stable/user_install.html\n",
      "  from .autonotebook import tqdm as notebook_tqdm\n"
     ]
    }
   ],
   "source": [
    "from sentence_transformers import SentenceTransformer"
   ]
  },
  {
   "cell_type": "code",
   "execution_count": 44,
   "id": "0f23f21d",
   "metadata": {},
   "outputs": [
    {
     "name": "stdout",
     "output_type": "stream",
     "text": [
      "<table><thead><th>Number of Coils</th><th>Number of Paperclips</th></thead><tr><td></td><td>3,5,4</td></tr><tr><td></td><td>11, 10, 12</td></tr><tr><td></td><td>15, 13, 14</td></tr></table>\n",
      "<table><tr><td rowspan=\"2\">Speed (mph) 407.447</td><td>Driver</td><td>Car</td><td>Eng ine</td><td>Date</td></tr><tr><td></td><td>Craig Breedlove</td><td>Spirit of America</td><td>GE J 47</td><td>8/5/63</td></tr><tr><td>413.199</td><td>Tom Green</td><td>Wingfoot Express</td><td>WE J46</td><td>10/2/64</td></tr><tr><td>434.22</td><td>Art Arfons</td><td>Green Monster</td><td>GE J   79</td><td>10/5/64</td></tr><tr><td>468.719</td><td>Craig Breed ove</td><td>Spirit of America</td><td>GE J 79</td><td>10/13/64</td></tr><tr><td>526.277</td><td>Craig Breed ove</td><td>Spirit of America</td><td>GE J 79</td><td>10/15/65</td></tr><tr><td>536.712</td><td>Art Arfons</td><td>Green Monster</td><td>GE J 79</td><td>10/27/65</td></tr><tr><td>555.127</td><td>Craig Breed ove</td><td>Spirit of America, Sonic 1</td><td>GE J 79</td><td>11/2/65</td></tr><tr><td>576.553</td><td>Art Arfons</td><td>Green Monster</td><td>GE J 79</td><td>11/7/65</td></tr><tr><td>600.601</td><td>Craig Breed ove</td><td>Spirit of America, Sonic 1</td><td>GE J 79</td><td>11/15/65</td></tr><tr><td>622.407</td><td>Gary Gabelich</td><td>Blue Flame</td><td>Rocket</td><td>10/23/70</td></tr><tr><td>633.468</td><td>Richard Noble</td><td>Thrust 2</td><td>RR RG 146</td><td>10/4/83</td></tr></table>\n",
      "<table><thead><th>Time (drops of water)</th><th>Distance (cm)</th></thead><tr><td></td><td>29, 31, 30</td></tr><tr><td></td><td>59, 58, 61</td></tr><tr><td></td><td>102, 100, 98</td></tr><tr><td></td><td>122, 125, 127</td></tr></table>\n"
     ]
    }
   ],
   "source": [
    "#Add tables to the document text\n",
    "tables = []\n",
    "for chunk in chunks:\n",
    "    if 'Table' in str(type(chunk)):\n",
    "            \n",
    "        tables.append(str(chunk.metadata.text_as_html))\n",
    "# Join all table elements into a single string\n",
    "document_table = \"\\n\".join(tables)\n",
    "print(document_table)"
   ]
  },
  {
   "cell_type": "code",
   "execution_count": 39,
   "id": "8c906b9f",
   "metadata": {},
   "outputs": [
    {
     "data": {
      "text/plain": [
       "'Pt C, Ch 1, Sec 10\\n\\n1.4 Symbols and units\\n\\n1.4.1 The following symbols and related units are commonly used in this Section. Additional symbols, related to some formulae indicated in this Section, are listed wherever it is necessary.\\n\\n: Design pressure, in MPa\\n\\np\\n\\nT : Design temperature, in °C\\n\\nt : Rule required minimum thickness, in mm\\n\\nD : Pipe external diameter, in mm.\\n\\n1.5 Class of piping systems\\n\\n1.5.1 Purpose of the classes of piping systems\\n\\nPiping systems are subdivided into three classes, denoted as class |, class II and class III, for the purpose of acceptance of materials, selection of joints, heat treatment, welding, pressure testing and the certification of fittings.\\n\\n1.5.2 Definitions of the classes of piping systems\\n\\na) Classes |, Il and III are defined in Tab 3\\n\\nb) The following systems are not covered by Tab 3:\\n\\n* cargo piping for oil tankers, gas tankers and chemical tankers, and\\n\\n¢ fluids for refrigerating plants.\\n\\nTable 3 : Class of piping systemsMedia conveyed by the piping system Class | Class Il (1) (4) Class Ill (7) Toxic media without special safeguards (3) | not applicable not applicable Corrosive media without special safeguards (3) | with special safeguards (3) | not applicable Flammable media: * heated above flashpoint, or ¢ having flashpoint < 60°C Liquefied gas without special safeguards (3) | with special safeguards (3) | not applicable Oxyacetylene irrespective of p not applicable not applicable Steam p> 1,6 or T > 300 other (2) p<0,7 andT<170 Thermal oil p> 1,6 or T > 300 other (2) p<0,7 andT<150 Fuel oil (8) Lubricating oil p>1,6o0rT>150 other (2) p <0,7 and T <60 Flammable hydraulic oil (5) Other media (5) (6) p>4orT>300 other (2) p<1,6 and T <200(1) Valves under static pressure on oil fuel tanks or lubricating oil tanks belong to class II.\\n\\n(2) Pressure and temperature conditions other than those required for class | and class\\n\\nIII.\\n\\n(3) Safeguards for reducing leakage possibility and limiting its consequences:\\n\\ne.g. pipes led in positions where leakage of internal fluids will not cause a potential hazard or damage to surrounding areas which may include the use of pipe ducts, shielding, screening etc.\\n\\n(4) Valves and fittings fitted on the ship side and collision bulkhead belong to class Il. See also [20.5.3] b).\\n\\n(5) Steering gear hydraulic piping system belongs to class | irrespective of p and T.\\n\\n(6) Including water, air, gases, non-flammable hydraulic oil, urea for SCR systems, when piping materials selected according to ISO 18611-3:2014 for urea in SCR .\\n\\n(7) The open ended pipes, irrespective of T, generally belong to class III (as drains, overflows, vents, exhaust gas lines, boiler escape pipes, etc.).\\n\\n(8) Design pressure for fuel oil systems is to be determined in accordance with Tab 4.\\n\\nNote 1: p : Design pressure, as defined in [1.3.2], in MPa.\\n\\nNote 2: T : Design temperature, as defined in [1.3.3], in °C.\\n\\nNote 3: Flammable media generally include the flammable liquids as oil fuel, lubricating oil, thermal oil and flammable hydraulic oil.\\n\\nTable 4 : Definition of the design pressure for fuel oil systemsWorking temperature T, in °C Working pressure P, in bar T<60 T > 60 p<7 3 bar or max. working pressure, 3 bar or max. working pressure, ~ whichever is the greater whichever is the greater . 14 bar or max. working pressure, Po? max. working pressure whichever is the greaterRules for the Classification of Steel Ships -\\n\\nNR467\\n\\nPtC, Ch 1, Sec 10\\n\\nJanuary 2025\\n\\n225\\nMedia conveyed by the piping system Class | Class Il (1) (4) Class Ill (7) Toxic media without special safeguards (3) | not applicable not applicable Corrosive media without special safeguards (3) | with special safeguards (3) | not applicable Flammable media: * heated above flashpoint, or ¢ having flashpoint < 60°C Liquefied gas without special safeguards (3) | with special safeguards (3) | not applicable Oxyacetylene irrespective of p not applicable not applicable Steam p> 1,6 or T > 300 other (2) p<0,7 andT<170 Thermal oil p> 1,6 or T > 300 other (2) p<0,7 andT<150 Fuel oil (8) Lubricating oil p>1,6o0rT>150 other (2) p <0,7 and T <60 Flammable hydraulic oil (5) Other media (5) (6) p>4orT>300 other (2) p<1,6 and T <200\\nWorking temperature T, in °C Working pressure P, in bar T<60 T > 60 p<7 3 bar or max. working pressure, 3 bar or max. working pressure, ~ whichever is the greater whichever is the greater . 14 bar or max. working pressure, Po? max. working pressure whichever is the greater'"
      ]
     },
     "execution_count": 39,
     "metadata": {},
     "output_type": "execute_result"
    }
   ],
   "source": [
    "document_all = \"\\n\".join([document_text, document_table])\n",
    "document_all"
   ]
  },
  {
   "cell_type": "markdown",
   "id": "78e32749",
   "metadata": {},
   "source": [
    "### Chunks"
   ]
  },
  {
   "cell_type": "code",
   "execution_count": 43,
   "id": "ced2ab26",
   "metadata": {},
   "outputs": [
    {
     "data": {
      "text/plain": [
       "[Document(metadata={}, page_content='Pt C, Ch 1, Sec 10\\n\\n1.4 Symbols and units\\n\\n1.4.1 The following symbols and related units are commonly used in this Section. Additional symbols, related to some formulae indicated in this Section, are listed wherever it is necessary.\\n\\n: Design pressure, in MPa\\n\\np\\n\\nT : Design temperature, in °C\\n\\nt : Rule required minimum thickness, in mm\\n\\nD : Pipe external diameter, in mm.\\n\\n1.5 Class of piping systems\\n\\n1.5.1 Purpose of the classes of piping systems\\n\\nPiping systems are subdivided into three classes, denoted as class |, class II and class III, for the purpose of acceptance of materials, selection of joints, heat treatment, welding, pressure testing and the certification of fittings.\\n\\n1.5.2 Definitions of the classes of piping systems\\n\\na) Classes |, Il and III are defined in Tab 3\\n\\nb) The following systems are not covered by Tab 3:\\n\\n* cargo piping for oil tankers, gas tankers and chemical tankers, and\\n\\n¢ fluids for refrigerating plants.\\n\\nTable 3 : Class of piping systemsMedia conveyed by the piping system Class | Class Il (1) (4) Class Ill (7) Toxic media without special safeguards (3) | not applicable not applicable Corrosive media without special safeguards (3) | with special safeguards (3) | not applicable Flammable media: * heated above flashpoint, or ¢ having flashpoint < 60°C Liquefied gas without special safeguards (3) | with special safeguards (3) | not applicable Oxyacetylene irrespective of p not applicable not applicable Steam p> 1,6 or T > 300 other (2) p<0,7 andT<170 Thermal oil p> 1,6 or T > 300 other (2) p<0,7 andT<150 Fuel oil (8) Lubricating oil p>1,6o0rT>150 other (2) p <0,7 and T <60 Flammable hydraulic oil (5) Other media (5) (6) p>4orT>300 other (2) p<1,6 and T <200(1) Valves under static pressure on oil fuel tanks or lubricating oil tanks belong to class II.\\n\\n(2) Pressure and temperature conditions other than those required for class | and class\\n\\nIII.\\n\\n(3) Safeguards for reducing leakage possibility and limiting its consequences:'),\n",
       " Document(metadata={}, page_content='(2) Pressure and temperature conditions other than those required for class | and class\\n\\nIII.\\n\\n(3) Safeguards for reducing leakage possibility and limiting its consequences:\\n\\ne.g. pipes led in positions where leakage of internal fluids will not cause a potential hazard or damage to surrounding areas which may include the use of pipe ducts, shielding, screening etc.\\n\\n(4) Valves and fittings fitted on the ship side and collision bulkhead belong to class Il. See also [20.5.3] b).\\n\\n(5) Steering gear hydraulic piping system belongs to class | irrespective of p and T.\\n\\n(6) Including water, air, gases, non-flammable hydraulic oil, urea for SCR systems, when piping materials selected according to ISO 18611-3:2014 for urea in SCR .\\n\\n(7) The open ended pipes, irrespective of T, generally belong to class III (as drains, overflows, vents, exhaust gas lines, boiler escape pipes, etc.).\\n\\n(8) Design pressure for fuel oil systems is to be determined in accordance with Tab 4.\\n\\nNote 1: p : Design pressure, as defined in [1.3.2], in MPa.\\n\\nNote 2: T : Design temperature, as defined in [1.3.3], in °C.\\n\\nNote 3: Flammable media generally include the flammable liquids as oil fuel, lubricating oil, thermal oil and flammable hydraulic oil.\\n\\nTable 4 : Definition of the design pressure for fuel oil systemsWorking temperature T, in °C Working pressure P, in bar T<60 T > 60 p<7 3 bar or max. working pressure, 3 bar or max. working pressure, ~ whichever is the greater whichever is the greater . 14 bar or max. working pressure, Po? max. working pressure whichever is the greaterRules for the Classification of Steel Ships -\\n\\nNR467\\n\\nPtC, Ch 1, Sec 10\\n\\nJanuary 2025'),\n",
       " Document(metadata={}, page_content='NR467\\n\\nPtC, Ch 1, Sec 10\\n\\nJanuary 2025\\n\\n225\\nMedia conveyed by the piping system Class | Class Il (1) (4) Class Ill (7) Toxic media without special safeguards (3) | not applicable not applicable Corrosive media without special safeguards (3) | with special safeguards (3) | not applicable Flammable media: * heated above flashpoint, or ¢ having flashpoint < 60°C Liquefied gas without special safeguards (3) | with special safeguards (3) | not applicable Oxyacetylene irrespective of p not applicable not applicable Steam p> 1,6 or T > 300 other (2) p<0,7 andT<170 Thermal oil p> 1,6 or T > 300 other (2) p<0,7 andT<150 Fuel oil (8) Lubricating oil p>1,6o0rT>150 other (2) p <0,7 and T <60 Flammable hydraulic oil (5) Other media (5) (6) p>4orT>300 other (2) p<1,6 and T <200\\nWorking temperature T, in °C Working pressure P, in bar T<60 T > 60 p<7 3 bar or max. working pressure, 3 bar or max. working pressure, ~ whichever is the greater whichever is the greater . 14 bar or max. working pressure, Po? max. working pressure whichever is the greater')]"
      ]
     },
     "execution_count": 43,
     "metadata": {},
     "output_type": "execute_result"
    }
   ],
   "source": [
    "from langchain.text_splitter import RecursiveCharacterTextSplitter\n",
    "\n",
    "# Split the document into chunks\n",
    "text_splitter = RecursiveCharacterTextSplitter(\n",
    "    chunk_size=2000,  # Adjust as needed\n",
    "    chunk_overlap=200  # Adjust as needed\n",
    ")\n",
    "chunks = text_splitter.create_documents([document_all])\n",
    "chunks"
   ]
  },
  {
   "cell_type": "markdown",
   "id": "200e7e13",
   "metadata": {},
   "source": [
    "## Images"
   ]
  },
  {
   "cell_type": "code",
   "execution_count": 5,
   "id": "b300145e",
   "metadata": {},
   "outputs": [
    {
     "data": {
      "text/plain": [
       "'Title'"
      ]
     },
     "execution_count": 5,
     "metadata": {},
     "output_type": "execute_result"
    }
   ],
   "source": [
    "from unstructured.staging.base import elements_from_base64_gzipped_json\n",
    "\n",
    "orig_elements = elements_from_base64_gzipped_json(sub_docs[0].metadata[\"orig_elements\"])\n",
    "orig_elements[1].category"
   ]
  },
  {
   "cell_type": "code",
   "execution_count": 11,
   "id": "10735b00",
   "metadata": {},
   "outputs": [
    {
     "data": {
      "text/plain": [
       "'ListItem'"
      ]
     },
     "execution_count": 11,
     "metadata": {},
     "output_type": "execute_result"
    }
   ],
   "source": [
    "orig_elements[7].category"
   ]
  },
  {
   "cell_type": "code",
   "execution_count": 12,
   "id": "3e30c826",
   "metadata": {},
   "outputs": [],
   "source": [
    "# Retrive the image_base64 from orig_elements metadata and store in a list. More than one image can exist per chunk.\n",
    "for doc in sub_docs:\n",
    "    image_base64_list = []\n",
    "    if 'orig_elements' in doc.metadata:\n",
    "        for orig_element in elements_from_base64_gzipped_json(doc.metadata[\"orig_elements\"]):\n",
    "            if orig_element.category == \"Image\" and orig_element.metadata.image_base64 != \"\":\n",
    "                image_base64_list.append(orig_element.metadata.image_base64)\n",
    "                print(f\"    {doc.metadata['element_id']} \\\n",
    "                      {doc.metadata['page_number']} \\\n",
    "                        {orig_element.category}: \\\n",
    "                            {orig_element.metadata.image_base64}\")\n",
    "        if (len(image_base64_list) > 0):\n",
    "            doc.metadata['list_image_base64'] = image_base64_list\n",
    "            print(f\"Document {doc.metadata['element_id']} has {len(image_base64_list)} images\")    \n",
    "    \n",
    "            "
   ]
  }
 ],
 "metadata": {
  "kernelspec": {
   "display_name": "Python 3",
   "language": "python",
   "name": "python3"
  },
  "language_info": {
   "codemirror_mode": {
    "name": "ipython",
    "version": 3
   },
   "file_extension": ".py",
   "mimetype": "text/x-python",
   "name": "python",
   "nbconvert_exporter": "python",
   "pygments_lexer": "ipython3",
   "version": "3.11.0"
  }
 },
 "nbformat": 4,
 "nbformat_minor": 5
}
